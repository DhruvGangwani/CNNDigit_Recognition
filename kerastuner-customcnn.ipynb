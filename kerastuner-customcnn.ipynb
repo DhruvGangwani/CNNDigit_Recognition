{
 "cells": [
  {
   "cell_type": "markdown",
   "id": "2e13dfbf",
   "metadata": {
    "papermill": {
     "duration": 0.00611,
     "end_time": "2022-11-12T20:58:27.837797",
     "exception": false,
     "start_time": "2022-11-12T20:58:27.831687",
     "status": "completed"
    },
    "tags": []
   },
   "source": [
    "# Import Library"
   ]
  },
  {
   "cell_type": "code",
   "execution_count": 1,
   "id": "af090914",
   "metadata": {
    "execution": {
     "iopub.execute_input": "2022-11-12T20:58:27.849558Z",
     "iopub.status.busy": "2022-11-12T20:58:27.849031Z",
     "iopub.status.idle": "2022-11-12T20:58:38.464092Z",
     "shell.execute_reply": "2022-11-12T20:58:38.462841Z"
    },
    "papermill": {
     "duration": 10.624609,
     "end_time": "2022-11-12T20:58:38.467232",
     "exception": false,
     "start_time": "2022-11-12T20:58:27.842623",
     "status": "completed"
    },
    "tags": []
   },
   "outputs": [
    {
     "name": "stdout",
     "output_type": "stream",
     "text": [
      "Requirement already satisfied: keras-tuner in /opt/conda/lib/python3.7/site-packages (1.1.2)\r\n",
      "Requirement already satisfied: numpy in /opt/conda/lib/python3.7/site-packages (from keras-tuner) (1.21.6)\r\n",
      "Requirement already satisfied: tensorboard in /opt/conda/lib/python3.7/site-packages (from keras-tuner) (2.10.1)\r\n",
      "Requirement already satisfied: kt-legacy in /opt/conda/lib/python3.7/site-packages (from keras-tuner) (1.0.4)\r\n",
      "Requirement already satisfied: ipython in /opt/conda/lib/python3.7/site-packages (from keras-tuner) (7.33.0)\r\n",
      "Requirement already satisfied: packaging in /opt/conda/lib/python3.7/site-packages (from keras-tuner) (21.3)\r\n",
      "Requirement already satisfied: requests in /opt/conda/lib/python3.7/site-packages (from keras-tuner) (2.28.1)\r\n",
      "Requirement already satisfied: pexpect>4.3 in /opt/conda/lib/python3.7/site-packages (from ipython->keras-tuner) (4.8.0)\r\n",
      "Requirement already satisfied: pygments in /opt/conda/lib/python3.7/site-packages (from ipython->keras-tuner) (2.12.0)\r\n",
      "Requirement already satisfied: traitlets>=4.2 in /opt/conda/lib/python3.7/site-packages (from ipython->keras-tuner) (5.3.0)\r\n",
      "Requirement already satisfied: decorator in /opt/conda/lib/python3.7/site-packages (from ipython->keras-tuner) (5.1.1)\r\n",
      "Requirement already satisfied: backcall in /opt/conda/lib/python3.7/site-packages (from ipython->keras-tuner) (0.2.0)\r\n",
      "Requirement already satisfied: jedi>=0.16 in /opt/conda/lib/python3.7/site-packages (from ipython->keras-tuner) (0.18.1)\r\n",
      "Requirement already satisfied: prompt-toolkit!=3.0.0,!=3.0.1,<3.1.0,>=2.0.0 in /opt/conda/lib/python3.7/site-packages (from ipython->keras-tuner) (3.0.30)\r\n",
      "Requirement already satisfied: setuptools>=18.5 in /opt/conda/lib/python3.7/site-packages (from ipython->keras-tuner) (59.8.0)\r\n",
      "Requirement already satisfied: matplotlib-inline in /opt/conda/lib/python3.7/site-packages (from ipython->keras-tuner) (0.1.3)\r\n",
      "Requirement already satisfied: pickleshare in /opt/conda/lib/python3.7/site-packages (from ipython->keras-tuner) (0.7.5)\r\n",
      "Requirement already satisfied: pyparsing!=3.0.5,>=2.0.2 in /opt/conda/lib/python3.7/site-packages (from packaging->keras-tuner) (3.0.9)\r\n",
      "Requirement already satisfied: urllib3<1.27,>=1.21.1 in /opt/conda/lib/python3.7/site-packages (from requests->keras-tuner) (1.26.12)\r\n",
      "Requirement already satisfied: certifi>=2017.4.17 in /opt/conda/lib/python3.7/site-packages (from requests->keras-tuner) (2022.9.24)\r\n",
      "Requirement already satisfied: charset-normalizer<3,>=2 in /opt/conda/lib/python3.7/site-packages (from requests->keras-tuner) (2.1.0)\r\n",
      "Requirement already satisfied: idna<4,>=2.5 in /opt/conda/lib/python3.7/site-packages (from requests->keras-tuner) (3.3)\r\n",
      "Requirement already satisfied: werkzeug>=1.0.1 in /opt/conda/lib/python3.7/site-packages (from tensorboard->keras-tuner) (2.2.2)\r\n",
      "Requirement already satisfied: absl-py>=0.4 in /opt/conda/lib/python3.7/site-packages (from tensorboard->keras-tuner) (0.15.0)\r\n",
      "Requirement already satisfied: wheel>=0.26 in /opt/conda/lib/python3.7/site-packages (from tensorboard->keras-tuner) (0.37.1)\r\n",
      "Requirement already satisfied: grpcio>=1.24.3 in /opt/conda/lib/python3.7/site-packages (from tensorboard->keras-tuner) (1.43.0)\r\n",
      "Requirement already satisfied: google-auth-oauthlib<0.5,>=0.4.1 in /opt/conda/lib/python3.7/site-packages (from tensorboard->keras-tuner) (0.4.6)\r\n",
      "Requirement already satisfied: google-auth<3,>=1.6.3 in /opt/conda/lib/python3.7/site-packages (from tensorboard->keras-tuner) (1.35.0)\r\n",
      "Requirement already satisfied: tensorboard-plugin-wit>=1.6.0 in /opt/conda/lib/python3.7/site-packages (from tensorboard->keras-tuner) (1.8.1)\r\n",
      "Requirement already satisfied: markdown>=2.6.8 in /opt/conda/lib/python3.7/site-packages (from tensorboard->keras-tuner) (3.3.7)\r\n",
      "Requirement already satisfied: protobuf<3.20,>=3.9.2 in /opt/conda/lib/python3.7/site-packages (from tensorboard->keras-tuner) (3.19.4)\r\n",
      "Requirement already satisfied: tensorboard-data-server<0.7.0,>=0.6.0 in /opt/conda/lib/python3.7/site-packages (from tensorboard->keras-tuner) (0.6.1)\r\n",
      "Requirement already satisfied: six in /opt/conda/lib/python3.7/site-packages (from absl-py>=0.4->tensorboard->keras-tuner) (1.15.0)\r\n",
      "Requirement already satisfied: rsa<5,>=3.1.4 in /opt/conda/lib/python3.7/site-packages (from google-auth<3,>=1.6.3->tensorboard->keras-tuner) (4.8)\r\n",
      "Requirement already satisfied: cachetools<5.0,>=2.0.0 in /opt/conda/lib/python3.7/site-packages (from google-auth<3,>=1.6.3->tensorboard->keras-tuner) (4.2.4)\r\n",
      "Requirement already satisfied: pyasn1-modules>=0.2.1 in /opt/conda/lib/python3.7/site-packages (from google-auth<3,>=1.6.3->tensorboard->keras-tuner) (0.2.7)\r\n",
      "Requirement already satisfied: requests-oauthlib>=0.7.0 in /opt/conda/lib/python3.7/site-packages (from google-auth-oauthlib<0.5,>=0.4.1->tensorboard->keras-tuner) (1.3.1)\r\n",
      "Requirement already satisfied: parso<0.9.0,>=0.8.0 in /opt/conda/lib/python3.7/site-packages (from jedi>=0.16->ipython->keras-tuner) (0.8.3)\r\n",
      "Requirement already satisfied: importlib-metadata>=4.4 in /opt/conda/lib/python3.7/site-packages (from markdown>=2.6.8->tensorboard->keras-tuner) (4.13.0)\r\n",
      "Requirement already satisfied: ptyprocess>=0.5 in /opt/conda/lib/python3.7/site-packages (from pexpect>4.3->ipython->keras-tuner) (0.7.0)\r\n",
      "Requirement already satisfied: wcwidth in /opt/conda/lib/python3.7/site-packages (from prompt-toolkit!=3.0.0,!=3.0.1,<3.1.0,>=2.0.0->ipython->keras-tuner) (0.2.5)\r\n",
      "Requirement already satisfied: MarkupSafe>=2.1.1 in /opt/conda/lib/python3.7/site-packages (from werkzeug>=1.0.1->tensorboard->keras-tuner) (2.1.1)\r\n",
      "Requirement already satisfied: zipp>=0.5 in /opt/conda/lib/python3.7/site-packages (from importlib-metadata>=4.4->markdown>=2.6.8->tensorboard->keras-tuner) (3.8.0)\r\n",
      "Requirement already satisfied: typing-extensions>=3.6.4 in /opt/conda/lib/python3.7/site-packages (from importlib-metadata>=4.4->markdown>=2.6.8->tensorboard->keras-tuner) (4.1.1)\r\n",
      "Requirement already satisfied: pyasn1<0.5.0,>=0.4.6 in /opt/conda/lib/python3.7/site-packages (from pyasn1-modules>=0.2.1->google-auth<3,>=1.6.3->tensorboard->keras-tuner) (0.4.8)\r\n",
      "Requirement already satisfied: oauthlib>=3.0.0 in /opt/conda/lib/python3.7/site-packages (from requests-oauthlib>=0.7.0->google-auth-oauthlib<0.5,>=0.4.1->tensorboard->keras-tuner) (3.2.0)\r\n",
      "\u001b[33mWARNING: Running pip as the 'root' user can result in broken permissions and conflicting behaviour with the system package manager. It is recommended to use a virtual environment instead: https://pip.pypa.io/warnings/venv\u001b[0m\u001b[33m\r\n",
      "\u001b[0m"
     ]
    }
   ],
   "source": [
    "!pip install keras-tuner"
   ]
  },
  {
   "cell_type": "code",
   "execution_count": 2,
   "id": "d289bfb9",
   "metadata": {
    "execution": {
     "iopub.execute_input": "2022-11-12T20:58:38.480359Z",
     "iopub.status.busy": "2022-11-12T20:58:38.480031Z",
     "iopub.status.idle": "2022-11-12T20:58:44.322368Z",
     "shell.execute_reply": "2022-11-12T20:58:44.319923Z"
    },
    "papermill": {
     "duration": 5.852413,
     "end_time": "2022-11-12T20:58:44.325344",
     "exception": false,
     "start_time": "2022-11-12T20:58:38.472931",
     "status": "completed"
    },
    "tags": []
   },
   "outputs": [
    {
     "name": "stderr",
     "output_type": "stream",
     "text": [
      "/opt/conda/lib/python3.7/site-packages/ipykernel_launcher.py:13: DeprecationWarning: `import kerastuner` is deprecated, please use `import keras_tuner`.\n",
      "  del sys.path[0]\n"
     ]
    }
   ],
   "source": [
    "import numpy as np\n",
    "import pandas as pd\n",
    "import matplotlib.pyplot as plt\n",
    "import seaborn as sns\n",
    "import tensorflow as tf\n",
    "import keras\n",
    "from keras.models import Sequential\n",
    "from keras.optimizers import adam_v2\n",
    "from keras.utils.np_utils import to_categorical\n",
    "from keras.layers import Dense, Dropout, Flatten, BatchNormalization\n",
    "from keras.layers.convolutional import Conv2D, MaxPooling2D\n",
    "from keras.preprocessing import image\n",
    "from kerastuner import RandomSearch\n",
    "from kerastuner.engine.hyperparameters import HyperParameters"
   ]
  },
  {
   "cell_type": "markdown",
   "id": "3e4022cd",
   "metadata": {
    "papermill": {
     "duration": 0.005648,
     "end_time": "2022-11-12T20:58:44.337405",
     "exception": false,
     "start_time": "2022-11-12T20:58:44.331757",
     "status": "completed"
    },
    "tags": []
   },
   "source": [
    "# Import Dataset"
   ]
  },
  {
   "cell_type": "code",
   "execution_count": 3,
   "id": "bdb45082",
   "metadata": {
    "execution": {
     "iopub.execute_input": "2022-11-12T20:58:44.349649Z",
     "iopub.status.busy": "2022-11-12T20:58:44.349128Z",
     "iopub.status.idle": "2022-11-12T20:58:47.437265Z",
     "shell.execute_reply": "2022-11-12T20:58:47.436324Z"
    },
    "papermill": {
     "duration": 3.099744,
     "end_time": "2022-11-12T20:58:47.442496",
     "exception": false,
     "start_time": "2022-11-12T20:58:44.342752",
     "status": "completed"
    },
    "tags": []
   },
   "outputs": [
    {
     "data": {
      "text/html": [
       "<div>\n",
       "<style scoped>\n",
       "    .dataframe tbody tr th:only-of-type {\n",
       "        vertical-align: middle;\n",
       "    }\n",
       "\n",
       "    .dataframe tbody tr th {\n",
       "        vertical-align: top;\n",
       "    }\n",
       "\n",
       "    .dataframe thead th {\n",
       "        text-align: right;\n",
       "    }\n",
       "</style>\n",
       "<table border=\"1\" class=\"dataframe\">\n",
       "  <thead>\n",
       "    <tr style=\"text-align: right;\">\n",
       "      <th></th>\n",
       "      <th>label</th>\n",
       "      <th>pixel0</th>\n",
       "      <th>pixel1</th>\n",
       "      <th>pixel2</th>\n",
       "      <th>pixel3</th>\n",
       "      <th>pixel4</th>\n",
       "      <th>pixel5</th>\n",
       "      <th>pixel6</th>\n",
       "      <th>pixel7</th>\n",
       "      <th>pixel8</th>\n",
       "      <th>...</th>\n",
       "      <th>pixel774</th>\n",
       "      <th>pixel775</th>\n",
       "      <th>pixel776</th>\n",
       "      <th>pixel777</th>\n",
       "      <th>pixel778</th>\n",
       "      <th>pixel779</th>\n",
       "      <th>pixel780</th>\n",
       "      <th>pixel781</th>\n",
       "      <th>pixel782</th>\n",
       "      <th>pixel783</th>\n",
       "    </tr>\n",
       "  </thead>\n",
       "  <tbody>\n",
       "    <tr>\n",
       "      <th>0</th>\n",
       "      <td>1</td>\n",
       "      <td>0</td>\n",
       "      <td>0</td>\n",
       "      <td>0</td>\n",
       "      <td>0</td>\n",
       "      <td>0</td>\n",
       "      <td>0</td>\n",
       "      <td>0</td>\n",
       "      <td>0</td>\n",
       "      <td>0</td>\n",
       "      <td>...</td>\n",
       "      <td>0</td>\n",
       "      <td>0</td>\n",
       "      <td>0</td>\n",
       "      <td>0</td>\n",
       "      <td>0</td>\n",
       "      <td>0</td>\n",
       "      <td>0</td>\n",
       "      <td>0</td>\n",
       "      <td>0</td>\n",
       "      <td>0</td>\n",
       "    </tr>\n",
       "    <tr>\n",
       "      <th>1</th>\n",
       "      <td>0</td>\n",
       "      <td>0</td>\n",
       "      <td>0</td>\n",
       "      <td>0</td>\n",
       "      <td>0</td>\n",
       "      <td>0</td>\n",
       "      <td>0</td>\n",
       "      <td>0</td>\n",
       "      <td>0</td>\n",
       "      <td>0</td>\n",
       "      <td>...</td>\n",
       "      <td>0</td>\n",
       "      <td>0</td>\n",
       "      <td>0</td>\n",
       "      <td>0</td>\n",
       "      <td>0</td>\n",
       "      <td>0</td>\n",
       "      <td>0</td>\n",
       "      <td>0</td>\n",
       "      <td>0</td>\n",
       "      <td>0</td>\n",
       "    </tr>\n",
       "    <tr>\n",
       "      <th>2</th>\n",
       "      <td>1</td>\n",
       "      <td>0</td>\n",
       "      <td>0</td>\n",
       "      <td>0</td>\n",
       "      <td>0</td>\n",
       "      <td>0</td>\n",
       "      <td>0</td>\n",
       "      <td>0</td>\n",
       "      <td>0</td>\n",
       "      <td>0</td>\n",
       "      <td>...</td>\n",
       "      <td>0</td>\n",
       "      <td>0</td>\n",
       "      <td>0</td>\n",
       "      <td>0</td>\n",
       "      <td>0</td>\n",
       "      <td>0</td>\n",
       "      <td>0</td>\n",
       "      <td>0</td>\n",
       "      <td>0</td>\n",
       "      <td>0</td>\n",
       "    </tr>\n",
       "    <tr>\n",
       "      <th>3</th>\n",
       "      <td>4</td>\n",
       "      <td>0</td>\n",
       "      <td>0</td>\n",
       "      <td>0</td>\n",
       "      <td>0</td>\n",
       "      <td>0</td>\n",
       "      <td>0</td>\n",
       "      <td>0</td>\n",
       "      <td>0</td>\n",
       "      <td>0</td>\n",
       "      <td>...</td>\n",
       "      <td>0</td>\n",
       "      <td>0</td>\n",
       "      <td>0</td>\n",
       "      <td>0</td>\n",
       "      <td>0</td>\n",
       "      <td>0</td>\n",
       "      <td>0</td>\n",
       "      <td>0</td>\n",
       "      <td>0</td>\n",
       "      <td>0</td>\n",
       "    </tr>\n",
       "    <tr>\n",
       "      <th>4</th>\n",
       "      <td>0</td>\n",
       "      <td>0</td>\n",
       "      <td>0</td>\n",
       "      <td>0</td>\n",
       "      <td>0</td>\n",
       "      <td>0</td>\n",
       "      <td>0</td>\n",
       "      <td>0</td>\n",
       "      <td>0</td>\n",
       "      <td>0</td>\n",
       "      <td>...</td>\n",
       "      <td>0</td>\n",
       "      <td>0</td>\n",
       "      <td>0</td>\n",
       "      <td>0</td>\n",
       "      <td>0</td>\n",
       "      <td>0</td>\n",
       "      <td>0</td>\n",
       "      <td>0</td>\n",
       "      <td>0</td>\n",
       "      <td>0</td>\n",
       "    </tr>\n",
       "  </tbody>\n",
       "</table>\n",
       "<p>5 rows × 785 columns</p>\n",
       "</div>"
      ],
      "text/plain": [
       "   label  pixel0  pixel1  pixel2  pixel3  pixel4  pixel5  pixel6  pixel7  \\\n",
       "0      1       0       0       0       0       0       0       0       0   \n",
       "1      0       0       0       0       0       0       0       0       0   \n",
       "2      1       0       0       0       0       0       0       0       0   \n",
       "3      4       0       0       0       0       0       0       0       0   \n",
       "4      0       0       0       0       0       0       0       0       0   \n",
       "\n",
       "   pixel8  ...  pixel774  pixel775  pixel776  pixel777  pixel778  pixel779  \\\n",
       "0       0  ...         0         0         0         0         0         0   \n",
       "1       0  ...         0         0         0         0         0         0   \n",
       "2       0  ...         0         0         0         0         0         0   \n",
       "3       0  ...         0         0         0         0         0         0   \n",
       "4       0  ...         0         0         0         0         0         0   \n",
       "\n",
       "   pixel780  pixel781  pixel782  pixel783  \n",
       "0         0         0         0         0  \n",
       "1         0         0         0         0  \n",
       "2         0         0         0         0  \n",
       "3         0         0         0         0  \n",
       "4         0         0         0         0  \n",
       "\n",
       "[5 rows x 785 columns]"
      ]
     },
     "execution_count": 3,
     "metadata": {},
     "output_type": "execute_result"
    }
   ],
   "source": [
    "train = pd.read_csv('../input/digit-recognizer/train.csv')\n",
    "train.head()"
   ]
  },
  {
   "cell_type": "code",
   "execution_count": 4,
   "id": "a89e4185",
   "metadata": {
    "execution": {
     "iopub.execute_input": "2022-11-12T20:58:47.460470Z",
     "iopub.status.busy": "2022-11-12T20:58:47.459794Z",
     "iopub.status.idle": "2022-11-12T20:58:49.432593Z",
     "shell.execute_reply": "2022-11-12T20:58:49.431466Z"
    },
    "papermill": {
     "duration": 1.983751,
     "end_time": "2022-11-12T20:58:49.434606",
     "exception": false,
     "start_time": "2022-11-12T20:58:47.450855",
     "status": "completed"
    },
    "tags": []
   },
   "outputs": [
    {
     "data": {
      "text/html": [
       "<div>\n",
       "<style scoped>\n",
       "    .dataframe tbody tr th:only-of-type {\n",
       "        vertical-align: middle;\n",
       "    }\n",
       "\n",
       "    .dataframe tbody tr th {\n",
       "        vertical-align: top;\n",
       "    }\n",
       "\n",
       "    .dataframe thead th {\n",
       "        text-align: right;\n",
       "    }\n",
       "</style>\n",
       "<table border=\"1\" class=\"dataframe\">\n",
       "  <thead>\n",
       "    <tr style=\"text-align: right;\">\n",
       "      <th></th>\n",
       "      <th>pixel0</th>\n",
       "      <th>pixel1</th>\n",
       "      <th>pixel2</th>\n",
       "      <th>pixel3</th>\n",
       "      <th>pixel4</th>\n",
       "      <th>pixel5</th>\n",
       "      <th>pixel6</th>\n",
       "      <th>pixel7</th>\n",
       "      <th>pixel8</th>\n",
       "      <th>pixel9</th>\n",
       "      <th>...</th>\n",
       "      <th>pixel774</th>\n",
       "      <th>pixel775</th>\n",
       "      <th>pixel776</th>\n",
       "      <th>pixel777</th>\n",
       "      <th>pixel778</th>\n",
       "      <th>pixel779</th>\n",
       "      <th>pixel780</th>\n",
       "      <th>pixel781</th>\n",
       "      <th>pixel782</th>\n",
       "      <th>pixel783</th>\n",
       "    </tr>\n",
       "  </thead>\n",
       "  <tbody>\n",
       "    <tr>\n",
       "      <th>0</th>\n",
       "      <td>0</td>\n",
       "      <td>0</td>\n",
       "      <td>0</td>\n",
       "      <td>0</td>\n",
       "      <td>0</td>\n",
       "      <td>0</td>\n",
       "      <td>0</td>\n",
       "      <td>0</td>\n",
       "      <td>0</td>\n",
       "      <td>0</td>\n",
       "      <td>...</td>\n",
       "      <td>0</td>\n",
       "      <td>0</td>\n",
       "      <td>0</td>\n",
       "      <td>0</td>\n",
       "      <td>0</td>\n",
       "      <td>0</td>\n",
       "      <td>0</td>\n",
       "      <td>0</td>\n",
       "      <td>0</td>\n",
       "      <td>0</td>\n",
       "    </tr>\n",
       "    <tr>\n",
       "      <th>1</th>\n",
       "      <td>0</td>\n",
       "      <td>0</td>\n",
       "      <td>0</td>\n",
       "      <td>0</td>\n",
       "      <td>0</td>\n",
       "      <td>0</td>\n",
       "      <td>0</td>\n",
       "      <td>0</td>\n",
       "      <td>0</td>\n",
       "      <td>0</td>\n",
       "      <td>...</td>\n",
       "      <td>0</td>\n",
       "      <td>0</td>\n",
       "      <td>0</td>\n",
       "      <td>0</td>\n",
       "      <td>0</td>\n",
       "      <td>0</td>\n",
       "      <td>0</td>\n",
       "      <td>0</td>\n",
       "      <td>0</td>\n",
       "      <td>0</td>\n",
       "    </tr>\n",
       "    <tr>\n",
       "      <th>2</th>\n",
       "      <td>0</td>\n",
       "      <td>0</td>\n",
       "      <td>0</td>\n",
       "      <td>0</td>\n",
       "      <td>0</td>\n",
       "      <td>0</td>\n",
       "      <td>0</td>\n",
       "      <td>0</td>\n",
       "      <td>0</td>\n",
       "      <td>0</td>\n",
       "      <td>...</td>\n",
       "      <td>0</td>\n",
       "      <td>0</td>\n",
       "      <td>0</td>\n",
       "      <td>0</td>\n",
       "      <td>0</td>\n",
       "      <td>0</td>\n",
       "      <td>0</td>\n",
       "      <td>0</td>\n",
       "      <td>0</td>\n",
       "      <td>0</td>\n",
       "    </tr>\n",
       "    <tr>\n",
       "      <th>3</th>\n",
       "      <td>0</td>\n",
       "      <td>0</td>\n",
       "      <td>0</td>\n",
       "      <td>0</td>\n",
       "      <td>0</td>\n",
       "      <td>0</td>\n",
       "      <td>0</td>\n",
       "      <td>0</td>\n",
       "      <td>0</td>\n",
       "      <td>0</td>\n",
       "      <td>...</td>\n",
       "      <td>0</td>\n",
       "      <td>0</td>\n",
       "      <td>0</td>\n",
       "      <td>0</td>\n",
       "      <td>0</td>\n",
       "      <td>0</td>\n",
       "      <td>0</td>\n",
       "      <td>0</td>\n",
       "      <td>0</td>\n",
       "      <td>0</td>\n",
       "    </tr>\n",
       "    <tr>\n",
       "      <th>4</th>\n",
       "      <td>0</td>\n",
       "      <td>0</td>\n",
       "      <td>0</td>\n",
       "      <td>0</td>\n",
       "      <td>0</td>\n",
       "      <td>0</td>\n",
       "      <td>0</td>\n",
       "      <td>0</td>\n",
       "      <td>0</td>\n",
       "      <td>0</td>\n",
       "      <td>...</td>\n",
       "      <td>0</td>\n",
       "      <td>0</td>\n",
       "      <td>0</td>\n",
       "      <td>0</td>\n",
       "      <td>0</td>\n",
       "      <td>0</td>\n",
       "      <td>0</td>\n",
       "      <td>0</td>\n",
       "      <td>0</td>\n",
       "      <td>0</td>\n",
       "    </tr>\n",
       "  </tbody>\n",
       "</table>\n",
       "<p>5 rows × 784 columns</p>\n",
       "</div>"
      ],
      "text/plain": [
       "   pixel0  pixel1  pixel2  pixel3  pixel4  pixel5  pixel6  pixel7  pixel8  \\\n",
       "0       0       0       0       0       0       0       0       0       0   \n",
       "1       0       0       0       0       0       0       0       0       0   \n",
       "2       0       0       0       0       0       0       0       0       0   \n",
       "3       0       0       0       0       0       0       0       0       0   \n",
       "4       0       0       0       0       0       0       0       0       0   \n",
       "\n",
       "   pixel9  ...  pixel774  pixel775  pixel776  pixel777  pixel778  pixel779  \\\n",
       "0       0  ...         0         0         0         0         0         0   \n",
       "1       0  ...         0         0         0         0         0         0   \n",
       "2       0  ...         0         0         0         0         0         0   \n",
       "3       0  ...         0         0         0         0         0         0   \n",
       "4       0  ...         0         0         0         0         0         0   \n",
       "\n",
       "   pixel780  pixel781  pixel782  pixel783  \n",
       "0         0         0         0         0  \n",
       "1         0         0         0         0  \n",
       "2         0         0         0         0  \n",
       "3         0         0         0         0  \n",
       "4         0         0         0         0  \n",
       "\n",
       "[5 rows x 784 columns]"
      ]
     },
     "execution_count": 4,
     "metadata": {},
     "output_type": "execute_result"
    }
   ],
   "source": [
    "test = pd.read_csv('../input/digit-recognizer/test.csv')\n",
    "test.head()"
   ]
  },
  {
   "cell_type": "markdown",
   "id": "5a31acc9",
   "metadata": {
    "papermill": {
     "duration": 0.006092,
     "end_time": "2022-11-12T20:58:49.446791",
     "exception": false,
     "start_time": "2022-11-12T20:58:49.440699",
     "status": "completed"
    },
    "tags": []
   },
   "source": [
    "# Frequency of Target "
   ]
  },
  {
   "cell_type": "code",
   "execution_count": 5,
   "id": "731455ed",
   "metadata": {
    "execution": {
     "iopub.execute_input": "2022-11-12T20:58:49.460837Z",
     "iopub.status.busy": "2022-11-12T20:58:49.460543Z",
     "iopub.status.idle": "2022-11-12T20:58:49.725349Z",
     "shell.execute_reply": "2022-11-12T20:58:49.724384Z"
    },
    "papermill": {
     "duration": 0.274956,
     "end_time": "2022-11-12T20:58:49.727431",
     "exception": false,
     "start_time": "2022-11-12T20:58:49.452475",
     "status": "completed"
    },
    "tags": []
   },
   "outputs": [
    {
     "name": "stderr",
     "output_type": "stream",
     "text": [
      "/opt/conda/lib/python3.7/site-packages/seaborn/_decorators.py:43: FutureWarning: Pass the following variable as a keyword arg: x. From version 0.12, the only valid positional argument will be `data`, and passing other arguments without an explicit keyword will result in an error or misinterpretation.\n",
      "  FutureWarning\n"
     ]
    },
    {
     "data": {
      "text/plain": [
       "Text(0.5, 1.0, 'Frequency of Digits')"
      ]
     },
     "execution_count": 5,
     "metadata": {},
     "output_type": "execute_result"
    },
    {
     "data": {
      "image/png": "[encoded data removed]",
      "text/plain": [
       "<Figure size 720x576 with 1 Axes>"
      ]
     },
     "metadata": {
      "needs_background": "light"
     },
     "output_type": "display_data"
    }
   ],
   "source": [
    "plt.figure(figsize=(10, 8))\n",
    "sns.countplot(train.label)\n",
    "plt.title('Frequency of Digits')"
   ]
  },
  {
   "cell_type": "markdown",
   "id": "93fb223f",
   "metadata": {
    "papermill": {
     "duration": 0.006172,
     "end_time": "2022-11-12T20:58:49.740046",
     "exception": false,
     "start_time": "2022-11-12T20:58:49.733874",
     "status": "completed"
    },
    "tags": []
   },
   "source": [
    "# Reshaping and Normalizing Data"
   ]
  },
  {
   "cell_type": "code",
   "execution_count": 6,
   "id": "3375a82a",
   "metadata": {
    "execution": {
     "iopub.execute_input": "2022-11-12T20:58:49.753635Z",
     "iopub.status.busy": "2022-11-12T20:58:49.753315Z",
     "iopub.status.idle": "2022-11-12T20:58:49.835141Z",
     "shell.execute_reply": "2022-11-12T20:58:49.834034Z"
    },
    "papermill": {
     "duration": 0.090815,
     "end_time": "2022-11-12T20:58:49.837118",
     "exception": false,
     "start_time": "2022-11-12T20:58:49.746303",
     "status": "completed"
    },
    "tags": []
   },
   "outputs": [],
   "source": [
    "xtrain = train.drop('label', axis=1)\n",
    "ytrain = train['label']"
   ]
  },
  {
   "cell_type": "code",
   "execution_count": 7,
   "id": "49e71480",
   "metadata": {
    "execution": {
     "iopub.execute_input": "2022-11-12T20:58:49.851819Z",
     "iopub.status.busy": "2022-11-12T20:58:49.850890Z",
     "iopub.status.idle": "2022-11-12T20:58:50.174700Z",
     "shell.execute_reply": "2022-11-12T20:58:50.173708Z"
    },
    "papermill": {
     "duration": 0.333552,
     "end_time": "2022-11-12T20:58:50.177069",
     "exception": false,
     "start_time": "2022-11-12T20:58:49.843517",
     "status": "completed"
    },
    "tags": []
   },
   "outputs": [],
   "source": [
    "xtrain = np.array(xtrain).reshape(-1, 28, 28, 1)\n",
    "test = np.array(test).reshape(-1, 28, 28, 1)\n",
    "xtrain = xtrain/255\n",
    "test = test/255"
   ]
  },
  {
   "cell_type": "markdown",
   "id": "5e50928b",
   "metadata": {
    "papermill": {
     "duration": 0.005899,
     "end_time": "2022-11-12T20:58:50.189281",
     "exception": false,
     "start_time": "2022-11-12T20:58:50.183382",
     "status": "completed"
    },
    "tags": []
   },
   "source": [
    "# Display Image"
   ]
  },
  {
   "cell_type": "code",
   "execution_count": 8,
   "id": "c8b22bdb",
   "metadata": {
    "execution": {
     "iopub.execute_input": "2022-11-12T20:58:50.202818Z",
     "iopub.status.busy": "2022-11-12T20:58:50.202503Z",
     "iopub.status.idle": "2022-11-12T20:58:50.441837Z",
     "shell.execute_reply": "2022-11-12T20:58:50.440883Z"
    },
    "papermill": {
     "duration": 0.248881,
     "end_time": "2022-11-12T20:58:50.444118",
     "exception": false,
     "start_time": "2022-11-12T20:58:50.195237",
     "status": "completed"
    },
    "tags": []
   },
   "outputs": [
    {
     "data": {
      "text/plain": [
       "(None, 7)"
      ]
     },
     "execution_count": 8,
     "metadata": {},
     "output_type": "execute_result"
    },
    {
     "data": {
      "image/png": "[encoded data removed]",
      "text/plain": [
       "<Figure size 720x720 with 1 Axes>"
      ]
     },
     "metadata": {
      "needs_background": "light"
     },
     "output_type": "display_data"
    }
   ],
   "source": [
    "def display_digit(img):\n",
    "    plt.figure(figsize = (10, 10))\n",
    "    plt.imshow(img)\n",
    "    \n",
    "\n",
    "display_digit(xtrain[1100]), ytrain[1100]"
   ]
  },
  {
   "cell_type": "markdown",
   "id": "f13d1b4a",
   "metadata": {
    "papermill": {
     "duration": 0.006535,
     "end_time": "2022-11-12T20:58:50.457110",
     "exception": false,
     "start_time": "2022-11-12T20:58:50.450575",
     "status": "completed"
    },
    "tags": []
   },
   "source": [
    "# Splitting Dataset"
   ]
  },
  {
   "cell_type": "code",
   "execution_count": 9,
   "id": "59c970af",
   "metadata": {
    "execution": {
     "iopub.execute_input": "2022-11-12T20:58:50.470817Z",
     "iopub.status.busy": "2022-11-12T20:58:50.470520Z",
     "iopub.status.idle": "2022-11-12T20:58:50.845132Z",
     "shell.execute_reply": "2022-11-12T20:58:50.844140Z"
    },
    "papermill": {
     "duration": 0.384376,
     "end_time": "2022-11-12T20:58:50.847713",
     "exception": false,
     "start_time": "2022-11-12T20:58:50.463337",
     "status": "completed"
    },
    "tags": []
   },
   "outputs": [],
   "source": [
    "from sklearn.model_selection import train_test_split #to split our dataset\n",
    "xtrain, xtest, ytrain, ytest = train_test_split(xtrain, ytrain, test_size=0.1, random_state=101)"
   ]
  },
  {
   "cell_type": "markdown",
   "id": "ac580b34",
   "metadata": {
    "papermill": {
     "duration": 0.006247,
     "end_time": "2022-11-12T20:58:50.860800",
     "exception": false,
     "start_time": "2022-11-12T20:58:50.854553",
     "status": "completed"
    },
    "tags": []
   },
   "source": [
    "# Custom CNN Keras-Tuner Model"
   ]
  },
  {
   "cell_type": "code",
   "execution_count": 10,
   "id": "1f394f3b",
   "metadata": {
    "execution": {
     "iopub.execute_input": "2022-11-12T20:58:50.875625Z",
     "iopub.status.busy": "2022-11-12T20:58:50.874670Z",
     "iopub.status.idle": "2022-11-12T20:58:50.884473Z",
     "shell.execute_reply": "2022-11-12T20:58:50.883527Z"
    },
    "papermill": {
     "duration": 0.019293,
     "end_time": "2022-11-12T20:58:50.886600",
     "exception": false,
     "start_time": "2022-11-12T20:58:50.867307",
     "status": "completed"
    },
    "tags": []
   },
   "outputs": [],
   "source": [
    "def cnn_model(hp):\n",
    "    model = Sequential()\n",
    "    \n",
    "    model.add(Conv2D(\n",
    "    filters = hp.Int('conv1_filter', min_value=16, max_value = 128, step=16),\n",
    "    kernel_size=hp.Choice('conv1_kernel', values = [3,5]),\n",
    "    activation='relu',\n",
    "    input_shape=(28,28,1)))\n",
    "    model.add(MaxPooling2D(pool_size=hp.Choice('conv1_pool', values = [2, 4])))\n",
    "    model.add(BatchNormalization(axis = -1))\n",
    "    \n",
    "    model.add(Conv2D(\n",
    "    filters = hp.Int('conv2_filter', min_value=16, max_value = 128, step=16),\n",
    "    kernel_size=hp.Choice('conv2_kernel', values = [3,5]),\n",
    "    activation='relu'))\n",
    "    model.add(MaxPooling2D(pool_size=(2, 2)))\n",
    "    model.add(BatchNormalization(axis = -1))\n",
    "    \n",
    "#     model.add(Conv2D(\n",
    "#     filters = hp.Int('conv3_filter', min_value=16, max_value = 128, step=16),\n",
    "#     kernel_size=hp.Choice('conv3_kernel', values = [3,5]),\n",
    "#     activation='relu'))\n",
    "#     model.add(MaxPooling2D(pool_size=(2, 2)))\n",
    "#     model.add(BatchNormalization(axis = -1))\n",
    "    \n",
    "    \n",
    "    model.add(Flatten())\n",
    "    model.add(Dense(\n",
    "        units=hp.Int('dense_1_units', min_value=32, max_value=128, step=16),\n",
    "        activation='relu'))\n",
    "    model.add(Dense(10, activation='softmax'))\n",
    "    model.compile(optimizer=adam_v2.Adam(hp.Choice('learning_rate', values=[1e-2, 1e-3])),\n",
    "              loss='sparse_categorical_crossentropy',\n",
    "              metrics=['accuracy'])\n",
    "    \n",
    "    return model"
   ]
  },
  {
   "cell_type": "code",
   "execution_count": 11,
   "id": "0ce92471",
   "metadata": {
    "execution": {
     "iopub.execute_input": "2022-11-12T20:58:50.900080Z",
     "iopub.status.busy": "2022-11-12T20:58:50.899807Z",
     "iopub.status.idle": "2022-11-12T20:58:53.642379Z",
     "shell.execute_reply": "2022-11-12T20:58:53.640863Z"
    },
    "papermill": {
     "duration": 2.752128,
     "end_time": "2022-11-12T20:58:53.644916",
     "exception": false,
     "start_time": "2022-11-12T20:58:50.892788",
     "status": "completed"
    },
    "tags": []
   },
   "outputs": [
    {
     "name": "stderr",
     "output_type": "stream",
     "text": [
      "2022-11-12 20:58:50.984165: I tensorflow/stream_executor/cuda/cuda_gpu_executor.cc:937] successful NUMA node read from SysFS had negative value (-1), but there must be at least one NUMA node, so returning NUMA node zero\n",
      "2022-11-12 20:58:51.130589: I tensorflow/stream_executor/cuda/cuda_gpu_executor.cc:937] successful NUMA node read from SysFS had negative value (-1), but there must be at least one NUMA node, so returning NUMA node zero\n",
      "2022-11-12 20:58:51.131398: I tensorflow/stream_executor/cuda/cuda_gpu_executor.cc:937] successful NUMA node read from SysFS had negative value (-1), but there must be at least one NUMA node, so returning NUMA node zero\n",
      "2022-11-12 20:58:51.133004: I tensorflow/core/platform/cpu_feature_guard.cc:142] This TensorFlow binary is optimized with oneAPI Deep Neural Network Library (oneDNN) to use the following CPU instructions in performance-critical operations:  AVX2 AVX512F FMA\n",
      "To enable them in other operations, rebuild TensorFlow with the appropriate compiler flags.\n",
      "2022-11-12 20:58:51.133363: I tensorflow/stream_executor/cuda/cuda_gpu_executor.cc:937] successful NUMA node read from SysFS had negative value (-1), but there must be at least one NUMA node, so returning NUMA node zero\n",
      "2022-11-12 20:58:51.134303: I tensorflow/stream_executor/cuda/cuda_gpu_executor.cc:937] successful NUMA node read from SysFS had negative value (-1), but there must be at least one NUMA node, so returning NUMA node zero\n",
      "2022-11-12 20:58:51.135192: I tensorflow/stream_executor/cuda/cuda_gpu_executor.cc:937] successful NUMA node read from SysFS had negative value (-1), but there must be at least one NUMA node, so returning NUMA node zero\n",
      "2022-11-12 20:58:53.054187: I tensorflow/stream_executor/cuda/cuda_gpu_executor.cc:937] successful NUMA node read from SysFS had negative value (-1), but there must be at least one NUMA node, so returning NUMA node zero\n",
      "2022-11-12 20:58:53.055087: I tensorflow/stream_executor/cuda/cuda_gpu_executor.cc:937] successful NUMA node read from SysFS had negative value (-1), but there must be at least one NUMA node, so returning NUMA node zero\n",
      "2022-11-12 20:58:53.055770: I tensorflow/stream_executor/cuda/cuda_gpu_executor.cc:937] successful NUMA node read from SysFS had negative value (-1), but there must be at least one NUMA node, so returning NUMA node zero\n",
      "2022-11-12 20:58:53.056373: I tensorflow/core/common_runtime/gpu/gpu_device.cc:1510] Created device /job:localhost/replica:0/task:0/device:GPU:0 with 15401 MB memory:  -> device: 0, name: Tesla P100-PCIE-16GB, pci bus id: 0000:00:04.0, compute capability: 6.0\n"
     ]
    }
   ],
   "source": [
    "tuner_search=RandomSearch(cnn_model,\n",
    "                          objective='val_accuracy',\n",
    "                          max_trials=5,directory='output',project_name=\"Digit Recognizer\")"
   ]
  },
  {
   "cell_type": "code",
   "execution_count": 12,
   "id": "788ce918",
   "metadata": {
    "execution": {
     "iopub.execute_input": "2022-11-12T20:58:53.666068Z",
     "iopub.status.busy": "2022-11-12T20:58:53.665135Z",
     "iopub.status.idle": "2022-11-12T21:00:09.299839Z",
     "shell.execute_reply": "2022-11-12T21:00:09.298741Z"
    },
    "papermill": {
     "duration": 75.648155,
     "end_time": "2022-11-12T21:00:09.302870",
     "exception": false,
     "start_time": "2022-11-12T20:58:53.654715",
     "status": "completed"
    },
    "tags": []
   },
   "outputs": [
    {
     "name": "stdout",
     "output_type": "stream",
     "text": [
      "Trial 5 Complete [00h 00m 21s]\n",
      "val_accuracy: 0.9801587462425232\n",
      "\n",
      "Best val_accuracy So Far: 0.9849206209182739\n",
      "Total elapsed time: 00h 01m 15s\n"
     ]
    }
   ],
   "source": [
    "tuner_search.search(xtrain,ytrain,epochs=3, validation_split=0.1)"
   ]
  },
  {
   "cell_type": "markdown",
   "id": "bb68919c",
   "metadata": {
    "papermill": {
     "duration": 0.006307,
     "end_time": "2022-11-12T21:00:09.316858",
     "exception": false,
     "start_time": "2022-11-12T21:00:09.310551",
     "status": "completed"
    },
    "tags": []
   },
   "source": [
    "# Extracting Best Model"
   ]
  },
  {
   "cell_type": "code",
   "execution_count": 13,
   "id": "e85f83e6",
   "metadata": {
    "execution": {
     "iopub.execute_input": "2022-11-12T21:00:09.331604Z",
     "iopub.status.busy": "2022-11-12T21:00:09.330880Z",
     "iopub.status.idle": "2022-11-12T21:00:09.627544Z",
     "shell.execute_reply": "2022-11-12T21:00:09.626559Z"
    },
    "papermill": {
     "duration": 0.306504,
     "end_time": "2022-11-12T21:00:09.629900",
     "exception": false,
     "start_time": "2022-11-12T21:00:09.323396",
     "status": "completed"
    },
    "tags": []
   },
   "outputs": [],
   "source": [
    "model = tuner_search.get_best_models(num_models=1)[0]"
   ]
  },
  {
   "cell_type": "code",
   "execution_count": 14,
   "id": "91745622",
   "metadata": {
    "execution": {
     "iopub.execute_input": "2022-11-12T21:00:09.646110Z",
     "iopub.status.busy": "2022-11-12T21:00:09.644439Z",
     "iopub.status.idle": "2022-11-12T21:00:09.651312Z",
     "shell.execute_reply": "2022-11-12T21:00:09.650254Z"
    },
    "papermill": {
     "duration": 0.018085,
     "end_time": "2022-11-12T21:00:09.654858",
     "exception": false,
     "start_time": "2022-11-12T21:00:09.636773",
     "status": "completed"
    },
    "tags": []
   },
   "outputs": [
    {
     "name": "stdout",
     "output_type": "stream",
     "text": [
      "Model: \"sequential\"\n",
      "_________________________________________________________________\n",
      "Layer (type)                 Output Shape              Param #   \n",
      "=================================================================\n",
      "conv2d (Conv2D)              (None, 24, 24, 96)        2496      \n",
      "_________________________________________________________________\n",
      "max_pooling2d (MaxPooling2D) (None, 12, 12, 96)        0         \n",
      "_________________________________________________________________\n",
      "batch_normalization (BatchNo (None, 12, 12, 96)        384       \n",
      "_________________________________________________________________\n",
      "conv2d_1 (Conv2D)            (None, 8, 8, 16)          38416     \n",
      "_________________________________________________________________\n",
      "max_pooling2d_1 (MaxPooling2 (None, 4, 4, 16)          0         \n",
      "_________________________________________________________________\n",
      "batch_normalization_1 (Batch (None, 4, 4, 16)          64        \n",
      "_________________________________________________________________\n",
      "flatten (Flatten)            (None, 256)               0         \n",
      "_________________________________________________________________\n",
      "dense (Dense)                (None, 48)                12336     \n",
      "_________________________________________________________________\n",
      "dense_1 (Dense)              (None, 10)                490       \n",
      "=================================================================\n",
      "Total params: 54,186\n",
      "Trainable params: 53,962\n",
      "Non-trainable params: 224\n",
      "_________________________________________________________________\n"
     ]
    }
   ],
   "source": [
    "model.summary()"
   ]
  },
  {
   "cell_type": "markdown",
   "id": "6883e8af",
   "metadata": {
    "papermill": {
     "duration": 0.006421,
     "end_time": "2022-11-12T21:00:09.668708",
     "exception": false,
     "start_time": "2022-11-12T21:00:09.662287",
     "status": "completed"
    },
    "tags": []
   },
   "source": [
    "# Training Again"
   ]
  },
  {
   "cell_type": "code",
   "execution_count": 15,
   "id": "cecb481c",
   "metadata": {
    "execution": {
     "iopub.execute_input": "2022-11-12T21:00:09.682728Z",
     "iopub.status.busy": "2022-11-12T21:00:09.682456Z",
     "iopub.status.idle": "2022-11-12T21:00:35.076372Z",
     "shell.execute_reply": "2022-11-12T21:00:35.075446Z"
    },
    "papermill": {
     "duration": 25.403094,
     "end_time": "2022-11-12T21:00:35.078339",
     "exception": false,
     "start_time": "2022-11-12T21:00:09.675245",
     "status": "completed"
    },
    "tags": []
   },
   "outputs": [
    {
     "name": "stdout",
     "output_type": "stream",
     "text": [
      "Epoch 4/10\n",
      "1064/1064 [==============================] - 4s 3ms/step - loss: 0.0309 - accuracy: 0.9904 - val_loss: 0.0689 - val_accuracy: 0.9786\n",
      "Epoch 5/10\n",
      "1064/1064 [==============================] - 3s 3ms/step - loss: 0.0256 - accuracy: 0.9914 - val_loss: 0.0561 - val_accuracy: 0.9854\n",
      "Epoch 6/10\n",
      "1064/1064 [==============================] - 3s 3ms/step - loss: 0.0185 - accuracy: 0.9943 - val_loss: 0.0806 - val_accuracy: 0.9783\n",
      "Epoch 7/10\n",
      "1064/1064 [==============================] - 4s 4ms/step - loss: 0.0174 - accuracy: 0.9942 - val_loss: 0.0451 - val_accuracy: 0.9862\n",
      "Epoch 8/10\n",
      "1064/1064 [==============================] - 3s 3ms/step - loss: 0.0129 - accuracy: 0.9957 - val_loss: 0.0558 - val_accuracy: 0.9862\n",
      "Epoch 9/10\n",
      "1064/1064 [==============================] - 3s 3ms/step - loss: 0.0121 - accuracy: 0.9959 - val_loss: 0.0573 - val_accuracy: 0.9860\n",
      "Epoch 10/10\n",
      "1064/1064 [==============================] - 3s 3ms/step - loss: 0.0111 - accuracy: 0.9966 - val_loss: 0.0696 - val_accuracy: 0.9860\n"
     ]
    },
    {
     "data": {
      "text/plain": [
       "<keras.callbacks.History at 0x7f1534c6e150>"
      ]
     },
     "execution_count": 15,
     "metadata": {},
     "output_type": "execute_result"
    }
   ],
   "source": [
    "model.fit(xtrain, ytrain, epochs=10, validation_split=0.1, initial_epoch=3)"
   ]
  },
  {
   "cell_type": "markdown",
   "id": "4e9814f2",
   "metadata": {
    "papermill": {
     "duration": 0.028708,
     "end_time": "2022-11-12T21:00:35.136720",
     "exception": false,
     "start_time": "2022-11-12T21:00:35.108012",
     "status": "completed"
    },
    "tags": []
   },
   "source": [
    "# Predict Test dataset"
   ]
  },
  {
   "cell_type": "code",
   "execution_count": 16,
   "id": "fb4c344a",
   "metadata": {
    "execution": {
     "iopub.execute_input": "2022-11-12T21:00:35.196445Z",
     "iopub.status.busy": "2022-11-12T21:00:35.195884Z",
     "iopub.status.idle": "2022-11-12T21:00:36.841794Z",
     "shell.execute_reply": "2022-11-12T21:00:36.840803Z"
    },
    "papermill": {
     "duration": 1.678528,
     "end_time": "2022-11-12T21:00:36.844506",
     "exception": false,
     "start_time": "2022-11-12T21:00:35.165978",
     "status": "completed"
    },
    "tags": []
   },
   "outputs": [],
   "source": [
    "#import submission file\n",
    "submission = pd.read_csv('../input/digit-recognizer/sample_submission.csv')\n",
    "submission.head()\n",
    "\n",
    "#predict test dataset\n",
    "ypred = model.predict(test)\n",
    "ytest = np.argmax(ypred,axis=1)\n",
    "\n",
    "#assigning result to submission file\n",
    "submission['Label'] = ytest\n",
    "submission.to_csv('submission.csv', index=False)"
   ]
  }
 ],
 "metadata": {
  "kernelspec": {
   "display_name": "Python 3",
   "language": "python",
   "name": "python3"
  },
  "language_info": {
   "codemirror_mode": {
    "name": "ipython",
    "version": 3
   },
   "file_extension": ".py",
   "mimetype": "text/x-python",
   "name": "python",
   "nbconvert_exporter": "python",
   "pygments_lexer": "ipython3",
   "version": "3.7.12"
  },
  "papermill": {
   "default_parameters": {},
   "duration": 140.359068,
   "end_time": "2022-11-12T21:00:40.727797",
   "environment_variables": {},
   "exception": null,
   "input_path": "__notebook__.ipynb",
   "output_path": "__notebook__.ipynb",
   "parameters": {},
   "start_time": "2022-11-12T20:58:20.368729",
   "version": "2.3.4"
  }
 },
 "nbformat": 4,
 "nbformat_minor": 5
}
