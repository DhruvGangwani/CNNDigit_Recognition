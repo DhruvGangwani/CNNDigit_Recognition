{
 "cells": [
  {
   "cell_type": "markdown",
   "id": "8f1bef3c",
   "metadata": {
    "papermill": {
     "duration": 0.005983,
     "end_time": "2022-11-20T02:10:55.368976",
     "exception": false,
     "start_time": "2022-11-20T02:10:55.362993",
     "status": "completed"
    },
    "tags": []
   },
   "source": [
    "# Import Libraries and Data "
   ]
  },
  {
   "cell_type": "code",
   "execution_count": 1,
   "id": "450d26b5",
   "metadata": {
    "execution": {
     "iopub.execute_input": "2022-11-20T02:10:55.380470Z",
     "iopub.status.busy": "2022-11-20T02:10:55.380012Z",
     "iopub.status.idle": "2022-11-20T02:10:56.238580Z",
     "shell.execute_reply": "2022-11-20T02:10:56.237611Z"
    },
    "papermill": {
     "duration": 0.867272,
     "end_time": "2022-11-20T02:10:56.241210",
     "exception": false,
     "start_time": "2022-11-20T02:10:55.373938",
     "status": "completed"
    },
    "tags": []
   },
   "outputs": [],
   "source": [
    "import pandas as pd\n",
    "import numpy as np\n",
    "import matplotlib.pyplot as plt\n",
    "import seaborn as sns"
   ]
  },
  {
   "cell_type": "code",
   "execution_count": 2,
   "id": "eff41e82",
   "metadata": {
    "execution": {
     "iopub.execute_input": "2022-11-20T02:10:56.253876Z",
     "iopub.status.busy": "2022-11-20T02:10:56.252247Z",
     "iopub.status.idle": "2022-11-20T02:10:59.316328Z",
     "shell.execute_reply": "2022-11-20T02:10:59.315294Z"
    },
    "papermill": {
     "duration": 3.072294,
     "end_time": "2022-11-20T02:10:59.318694",
     "exception": false,
     "start_time": "2022-11-20T02:10:56.246400",
     "status": "completed"
    },
    "tags": []
   },
   "outputs": [
    {
     "data": {
      "text/html": [
       "<div>\n",
       "<style scoped>\n",
       "    .dataframe tbody tr th:only-of-type {\n",
       "        vertical-align: middle;\n",
       "    }\n",
       "\n",
       "    .dataframe tbody tr th {\n",
       "        vertical-align: top;\n",
       "    }\n",
       "\n",
       "    .dataframe thead th {\n",
       "        text-align: right;\n",
       "    }\n",
       "</style>\n",
       "<table border=\"1\" class=\"dataframe\">\n",
       "  <thead>\n",
       "    <tr style=\"text-align: right;\">\n",
       "      <th></th>\n",
       "      <th>label</th>\n",
       "      <th>pixel0</th>\n",
       "      <th>pixel1</th>\n",
       "      <th>pixel2</th>\n",
       "      <th>pixel3</th>\n",
       "      <th>pixel4</th>\n",
       "      <th>pixel5</th>\n",
       "      <th>pixel6</th>\n",
       "      <th>pixel7</th>\n",
       "      <th>pixel8</th>\n",
       "      <th>...</th>\n",
       "      <th>pixel774</th>\n",
       "      <th>pixel775</th>\n",
       "      <th>pixel776</th>\n",
       "      <th>pixel777</th>\n",
       "      <th>pixel778</th>\n",
       "      <th>pixel779</th>\n",
       "      <th>pixel780</th>\n",
       "      <th>pixel781</th>\n",
       "      <th>pixel782</th>\n",
       "      <th>pixel783</th>\n",
       "    </tr>\n",
       "  </thead>\n",
       "  <tbody>\n",
       "    <tr>\n",
       "      <th>0</th>\n",
       "      <td>1</td>\n",
       "      <td>0</td>\n",
       "      <td>0</td>\n",
       "      <td>0</td>\n",
       "      <td>0</td>\n",
       "      <td>0</td>\n",
       "      <td>0</td>\n",
       "      <td>0</td>\n",
       "      <td>0</td>\n",
       "      <td>0</td>\n",
       "      <td>...</td>\n",
       "      <td>0</td>\n",
       "      <td>0</td>\n",
       "      <td>0</td>\n",
       "      <td>0</td>\n",
       "      <td>0</td>\n",
       "      <td>0</td>\n",
       "      <td>0</td>\n",
       "      <td>0</td>\n",
       "      <td>0</td>\n",
       "      <td>0</td>\n",
       "    </tr>\n",
       "    <tr>\n",
       "      <th>1</th>\n",
       "      <td>0</td>\n",
       "      <td>0</td>\n",
       "      <td>0</td>\n",
       "      <td>0</td>\n",
       "      <td>0</td>\n",
       "      <td>0</td>\n",
       "      <td>0</td>\n",
       "      <td>0</td>\n",
       "      <td>0</td>\n",
       "      <td>0</td>\n",
       "      <td>...</td>\n",
       "      <td>0</td>\n",
       "      <td>0</td>\n",
       "      <td>0</td>\n",
       "      <td>0</td>\n",
       "      <td>0</td>\n",
       "      <td>0</td>\n",
       "      <td>0</td>\n",
       "      <td>0</td>\n",
       "      <td>0</td>\n",
       "      <td>0</td>\n",
       "    </tr>\n",
       "    <tr>\n",
       "      <th>2</th>\n",
       "      <td>1</td>\n",
       "      <td>0</td>\n",
       "      <td>0</td>\n",
       "      <td>0</td>\n",
       "      <td>0</td>\n",
       "      <td>0</td>\n",
       "      <td>0</td>\n",
       "      <td>0</td>\n",
       "      <td>0</td>\n",
       "      <td>0</td>\n",
       "      <td>...</td>\n",
       "      <td>0</td>\n",
       "      <td>0</td>\n",
       "      <td>0</td>\n",
       "      <td>0</td>\n",
       "      <td>0</td>\n",
       "      <td>0</td>\n",
       "      <td>0</td>\n",
       "      <td>0</td>\n",
       "      <td>0</td>\n",
       "      <td>0</td>\n",
       "    </tr>\n",
       "    <tr>\n",
       "      <th>3</th>\n",
       "      <td>4</td>\n",
       "      <td>0</td>\n",
       "      <td>0</td>\n",
       "      <td>0</td>\n",
       "      <td>0</td>\n",
       "      <td>0</td>\n",
       "      <td>0</td>\n",
       "      <td>0</td>\n",
       "      <td>0</td>\n",
       "      <td>0</td>\n",
       "      <td>...</td>\n",
       "      <td>0</td>\n",
       "      <td>0</td>\n",
       "      <td>0</td>\n",
       "      <td>0</td>\n",
       "      <td>0</td>\n",
       "      <td>0</td>\n",
       "      <td>0</td>\n",
       "      <td>0</td>\n",
       "      <td>0</td>\n",
       "      <td>0</td>\n",
       "    </tr>\n",
       "    <tr>\n",
       "      <th>4</th>\n",
       "      <td>0</td>\n",
       "      <td>0</td>\n",
       "      <td>0</td>\n",
       "      <td>0</td>\n",
       "      <td>0</td>\n",
       "      <td>0</td>\n",
       "      <td>0</td>\n",
       "      <td>0</td>\n",
       "      <td>0</td>\n",
       "      <td>0</td>\n",
       "      <td>...</td>\n",
       "      <td>0</td>\n",
       "      <td>0</td>\n",
       "      <td>0</td>\n",
       "      <td>0</td>\n",
       "      <td>0</td>\n",
       "      <td>0</td>\n",
       "      <td>0</td>\n",
       "      <td>0</td>\n",
       "      <td>0</td>\n",
       "      <td>0</td>\n",
       "    </tr>\n",
       "  </tbody>\n",
       "</table>\n",
       "<p>5 rows × 785 columns</p>\n",
       "</div>"
      ],
      "text/plain": [
       "   label  pixel0  pixel1  pixel2  pixel3  pixel4  pixel5  pixel6  pixel7  \\\n",
       "0      1       0       0       0       0       0       0       0       0   \n",
       "1      0       0       0       0       0       0       0       0       0   \n",
       "2      1       0       0       0       0       0       0       0       0   \n",
       "3      4       0       0       0       0       0       0       0       0   \n",
       "4      0       0       0       0       0       0       0       0       0   \n",
       "\n",
       "   pixel8  ...  pixel774  pixel775  pixel776  pixel777  pixel778  pixel779  \\\n",
       "0       0  ...         0         0         0         0         0         0   \n",
       "1       0  ...         0         0         0         0         0         0   \n",
       "2       0  ...         0         0         0         0         0         0   \n",
       "3       0  ...         0         0         0         0         0         0   \n",
       "4       0  ...         0         0         0         0         0         0   \n",
       "\n",
       "   pixel780  pixel781  pixel782  pixel783  \n",
       "0         0         0         0         0  \n",
       "1         0         0         0         0  \n",
       "2         0         0         0         0  \n",
       "3         0         0         0         0  \n",
       "4         0         0         0         0  \n",
       "\n",
       "[5 rows x 785 columns]"
      ]
     },
     "execution_count": 2,
     "metadata": {},
     "output_type": "execute_result"
    }
   ],
   "source": [
    "train = pd.read_csv('../input/digit-recognizer/train.csv')\n",
    "train.head()"
   ]
  },
  {
   "cell_type": "code",
   "execution_count": 3,
   "id": "4a56b19f",
   "metadata": {
    "execution": {
     "iopub.execute_input": "2022-11-20T02:10:59.331067Z",
     "iopub.status.busy": "2022-11-20T02:10:59.330509Z",
     "iopub.status.idle": "2022-11-20T02:11:01.052916Z",
     "shell.execute_reply": "2022-11-20T02:11:01.052026Z"
    },
    "papermill": {
     "duration": 1.731178,
     "end_time": "2022-11-20T02:11:01.055366",
     "exception": false,
     "start_time": "2022-11-20T02:10:59.324188",
     "status": "completed"
    },
    "tags": []
   },
   "outputs": [
    {
     "data": {
      "text/html": [
       "<div>\n",
       "<style scoped>\n",
       "    .dataframe tbody tr th:only-of-type {\n",
       "        vertical-align: middle;\n",
       "    }\n",
       "\n",
       "    .dataframe tbody tr th {\n",
       "        vertical-align: top;\n",
       "    }\n",
       "\n",
       "    .dataframe thead th {\n",
       "        text-align: right;\n",
       "    }\n",
       "</style>\n",
       "<table border=\"1\" class=\"dataframe\">\n",
       "  <thead>\n",
       "    <tr style=\"text-align: right;\">\n",
       "      <th></th>\n",
       "      <th>pixel0</th>\n",
       "      <th>pixel1</th>\n",
       "      <th>pixel2</th>\n",
       "      <th>pixel3</th>\n",
       "      <th>pixel4</th>\n",
       "      <th>pixel5</th>\n",
       "      <th>pixel6</th>\n",
       "      <th>pixel7</th>\n",
       "      <th>pixel8</th>\n",
       "      <th>pixel9</th>\n",
       "      <th>...</th>\n",
       "      <th>pixel774</th>\n",
       "      <th>pixel775</th>\n",
       "      <th>pixel776</th>\n",
       "      <th>pixel777</th>\n",
       "      <th>pixel778</th>\n",
       "      <th>pixel779</th>\n",
       "      <th>pixel780</th>\n",
       "      <th>pixel781</th>\n",
       "      <th>pixel782</th>\n",
       "      <th>pixel783</th>\n",
       "    </tr>\n",
       "  </thead>\n",
       "  <tbody>\n",
       "    <tr>\n",
       "      <th>0</th>\n",
       "      <td>0</td>\n",
       "      <td>0</td>\n",
       "      <td>0</td>\n",
       "      <td>0</td>\n",
       "      <td>0</td>\n",
       "      <td>0</td>\n",
       "      <td>0</td>\n",
       "      <td>0</td>\n",
       "      <td>0</td>\n",
       "      <td>0</td>\n",
       "      <td>...</td>\n",
       "      <td>0</td>\n",
       "      <td>0</td>\n",
       "      <td>0</td>\n",
       "      <td>0</td>\n",
       "      <td>0</td>\n",
       "      <td>0</td>\n",
       "      <td>0</td>\n",
       "      <td>0</td>\n",
       "      <td>0</td>\n",
       "      <td>0</td>\n",
       "    </tr>\n",
       "    <tr>\n",
       "      <th>1</th>\n",
       "      <td>0</td>\n",
       "      <td>0</td>\n",
       "      <td>0</td>\n",
       "      <td>0</td>\n",
       "      <td>0</td>\n",
       "      <td>0</td>\n",
       "      <td>0</td>\n",
       "      <td>0</td>\n",
       "      <td>0</td>\n",
       "      <td>0</td>\n",
       "      <td>...</td>\n",
       "      <td>0</td>\n",
       "      <td>0</td>\n",
       "      <td>0</td>\n",
       "      <td>0</td>\n",
       "      <td>0</td>\n",
       "      <td>0</td>\n",
       "      <td>0</td>\n",
       "      <td>0</td>\n",
       "      <td>0</td>\n",
       "      <td>0</td>\n",
       "    </tr>\n",
       "    <tr>\n",
       "      <th>2</th>\n",
       "      <td>0</td>\n",
       "      <td>0</td>\n",
       "      <td>0</td>\n",
       "      <td>0</td>\n",
       "      <td>0</td>\n",
       "      <td>0</td>\n",
       "      <td>0</td>\n",
       "      <td>0</td>\n",
       "      <td>0</td>\n",
       "      <td>0</td>\n",
       "      <td>...</td>\n",
       "      <td>0</td>\n",
       "      <td>0</td>\n",
       "      <td>0</td>\n",
       "      <td>0</td>\n",
       "      <td>0</td>\n",
       "      <td>0</td>\n",
       "      <td>0</td>\n",
       "      <td>0</td>\n",
       "      <td>0</td>\n",
       "      <td>0</td>\n",
       "    </tr>\n",
       "    <tr>\n",
       "      <th>3</th>\n",
       "      <td>0</td>\n",
       "      <td>0</td>\n",
       "      <td>0</td>\n",
       "      <td>0</td>\n",
       "      <td>0</td>\n",
       "      <td>0</td>\n",
       "      <td>0</td>\n",
       "      <td>0</td>\n",
       "      <td>0</td>\n",
       "      <td>0</td>\n",
       "      <td>...</td>\n",
       "      <td>0</td>\n",
       "      <td>0</td>\n",
       "      <td>0</td>\n",
       "      <td>0</td>\n",
       "      <td>0</td>\n",
       "      <td>0</td>\n",
       "      <td>0</td>\n",
       "      <td>0</td>\n",
       "      <td>0</td>\n",
       "      <td>0</td>\n",
       "    </tr>\n",
       "    <tr>\n",
       "      <th>4</th>\n",
       "      <td>0</td>\n",
       "      <td>0</td>\n",
       "      <td>0</td>\n",
       "      <td>0</td>\n",
       "      <td>0</td>\n",
       "      <td>0</td>\n",
       "      <td>0</td>\n",
       "      <td>0</td>\n",
       "      <td>0</td>\n",
       "      <td>0</td>\n",
       "      <td>...</td>\n",
       "      <td>0</td>\n",
       "      <td>0</td>\n",
       "      <td>0</td>\n",
       "      <td>0</td>\n",
       "      <td>0</td>\n",
       "      <td>0</td>\n",
       "      <td>0</td>\n",
       "      <td>0</td>\n",
       "      <td>0</td>\n",
       "      <td>0</td>\n",
       "    </tr>\n",
       "  </tbody>\n",
       "</table>\n",
       "<p>5 rows × 784 columns</p>\n",
       "</div>"
      ],
      "text/plain": [
       "   pixel0  pixel1  pixel2  pixel3  pixel4  pixel5  pixel6  pixel7  pixel8  \\\n",
       "0       0       0       0       0       0       0       0       0       0   \n",
       "1       0       0       0       0       0       0       0       0       0   \n",
       "2       0       0       0       0       0       0       0       0       0   \n",
       "3       0       0       0       0       0       0       0       0       0   \n",
       "4       0       0       0       0       0       0       0       0       0   \n",
       "\n",
       "   pixel9  ...  pixel774  pixel775  pixel776  pixel777  pixel778  pixel779  \\\n",
       "0       0  ...         0         0         0         0         0         0   \n",
       "1       0  ...         0         0         0         0         0         0   \n",
       "2       0  ...         0         0         0         0         0         0   \n",
       "3       0  ...         0         0         0         0         0         0   \n",
       "4       0  ...         0         0         0         0         0         0   \n",
       "\n",
       "   pixel780  pixel781  pixel782  pixel783  \n",
       "0         0         0         0         0  \n",
       "1         0         0         0         0  \n",
       "2         0         0         0         0  \n",
       "3         0         0         0         0  \n",
       "4         0         0         0         0  \n",
       "\n",
       "[5 rows x 784 columns]"
      ]
     },
     "execution_count": 3,
     "metadata": {},
     "output_type": "execute_result"
    }
   ],
   "source": [
    "test = pd.read_csv('../input/digit-recognizer/test.csv')\n",
    "test.head()"
   ]
  },
  {
   "cell_type": "markdown",
   "id": "77cc502f",
   "metadata": {
    "papermill": {
     "duration": 0.005236,
     "end_time": "2022-11-20T02:11:01.066214",
     "exception": false,
     "start_time": "2022-11-20T02:11:01.060978",
     "status": "completed"
    },
    "tags": []
   },
   "source": [
    "# Class Distribution"
   ]
  },
  {
   "cell_type": "code",
   "execution_count": 4,
   "id": "06ba5322",
   "metadata": {
    "execution": {
     "iopub.execute_input": "2022-11-20T02:11:01.079559Z",
     "iopub.status.busy": "2022-11-20T02:11:01.077912Z",
     "iopub.status.idle": "2022-11-20T02:11:01.341961Z",
     "shell.execute_reply": "2022-11-20T02:11:01.341067Z"
    },
    "papermill": {
     "duration": 0.27266,
     "end_time": "2022-11-20T02:11:01.344104",
     "exception": false,
     "start_time": "2022-11-20T02:11:01.071444",
     "status": "completed"
    },
    "tags": []
   },
   "outputs": [
    {
     "name": "stderr",
     "output_type": "stream",
     "text": [
      "/opt/conda/lib/python3.7/site-packages/seaborn/_decorators.py:43: FutureWarning: Pass the following variable as a keyword arg: x. From version 0.12, the only valid positional argument will be `data`, and passing other arguments without an explicit keyword will result in an error or misinterpretation.\n",
      "  FutureWarning\n"
     ]
    },
    {
     "data": {
      "text/plain": [
       "Text(0.5, 1.0, 'Frequency of Digits')"
      ]
     },
     "execution_count": 4,
     "metadata": {},
     "output_type": "execute_result"
    },
    {
     "data": {
      "image/png": "[encoded data removed]",
      "text/plain": [
       "<Figure size 720x576 with 1 Axes>"
      ]
     },
     "metadata": {
      "needs_background": "light"
     },
     "output_type": "display_data"
    }
   ],
   "source": [
    "plt.figure(figsize=(10, 8))\n",
    "sns.countplot(train.label)\n",
    "plt.title('Frequency of Digits')"
   ]
  },
  {
   "cell_type": "markdown",
   "id": "e6cd7df4",
   "metadata": {
    "papermill": {
     "duration": 0.005415,
     "end_time": "2022-11-20T02:11:01.355572",
     "exception": false,
     "start_time": "2022-11-20T02:11:01.350157",
     "status": "completed"
    },
    "tags": []
   },
   "source": [
    "# Data Transformation"
   ]
  },
  {
   "cell_type": "code",
   "execution_count": 5,
   "id": "6023b73a",
   "metadata": {
    "execution": {
     "iopub.execute_input": "2022-11-20T02:11:01.367977Z",
     "iopub.status.busy": "2022-11-20T02:11:01.367696Z",
     "iopub.status.idle": "2022-11-20T02:11:01.448946Z",
     "shell.execute_reply": "2022-11-20T02:11:01.447548Z"
    },
    "papermill": {
     "duration": 0.090712,
     "end_time": "2022-11-20T02:11:01.451771",
     "exception": false,
     "start_time": "2022-11-20T02:11:01.361059",
     "status": "completed"
    },
    "tags": []
   },
   "outputs": [],
   "source": [
    "xtrain = train.drop('label', axis=1)\n",
    "ytrain = train['label']"
   ]
  },
  {
   "cell_type": "code",
   "execution_count": 6,
   "id": "71f9b3a9",
   "metadata": {
    "execution": {
     "iopub.execute_input": "2022-11-20T02:11:01.465536Z",
     "iopub.status.busy": "2022-11-20T02:11:01.464950Z",
     "iopub.status.idle": "2022-11-20T02:11:01.650653Z",
     "shell.execute_reply": "2022-11-20T02:11:01.649633Z"
    },
    "papermill": {
     "duration": 0.194828,
     "end_time": "2022-11-20T02:11:01.653044",
     "exception": false,
     "start_time": "2022-11-20T02:11:01.458216",
     "status": "completed"
    },
    "tags": []
   },
   "outputs": [],
   "source": [
    "#xtrain = np.array(xtrain).reshape(-1, 28, 28, 1)\n",
    "#test = np.array(test).reshape(-1, 28, 28, 1)\n",
    "xtrain = xtrain/255\n",
    "test = test/255"
   ]
  },
  {
   "cell_type": "code",
   "execution_count": 7,
   "id": "ee5cda32",
   "metadata": {
    "execution": {
     "iopub.execute_input": "2022-11-20T02:11:01.666323Z",
     "iopub.status.busy": "2022-11-20T02:11:01.666024Z",
     "iopub.status.idle": "2022-11-20T02:11:01.671924Z",
     "shell.execute_reply": "2022-11-20T02:11:01.671332Z"
    },
    "papermill": {
     "duration": 0.014365,
     "end_time": "2022-11-20T02:11:01.673693",
     "exception": false,
     "start_time": "2022-11-20T02:11:01.659328",
     "status": "completed"
    },
    "tags": []
   },
   "outputs": [],
   "source": [
    "num_examples_train = xtrain.shape[0]\n",
    "num_examples_test = test.shape[0]\n",
    "n_h = 32\n",
    "n_w = 32\n",
    "n_c = 3\n",
    "\n",
    "Train_input_images = np.zeros((num_examples_train, n_h, n_w, n_c))\n",
    "Test_input_images = np.zeros((num_examples_test, n_h, n_w, n_c))"
   ]
  },
  {
   "cell_type": "code",
   "execution_count": 8,
   "id": "43c33ca0",
   "metadata": {
    "execution": {
     "iopub.execute_input": "2022-11-20T02:11:01.686001Z",
     "iopub.status.busy": "2022-11-20T02:11:01.685743Z",
     "iopub.status.idle": "2022-11-20T02:11:01.691198Z",
     "shell.execute_reply": "2022-11-20T02:11:01.690329Z"
    },
    "papermill": {
     "duration": 0.013831,
     "end_time": "2022-11-20T02:11:01.693030",
     "exception": false,
     "start_time": "2022-11-20T02:11:01.679199",
     "status": "completed"
    },
    "tags": []
   },
   "outputs": [
    {
     "data": {
      "text/plain": [
       "(42000, 784)"
      ]
     },
     "execution_count": 8,
     "metadata": {},
     "output_type": "execute_result"
    }
   ],
   "source": [
    "xtrain.shape"
   ]
  },
  {
   "cell_type": "code",
   "execution_count": 9,
   "id": "a9b30f58",
   "metadata": {
    "execution": {
     "iopub.execute_input": "2022-11-20T02:11:01.706532Z",
     "iopub.status.busy": "2022-11-20T02:11:01.706038Z",
     "iopub.status.idle": "2022-11-20T02:11:19.808675Z",
     "shell.execute_reply": "2022-11-20T02:11:19.807639Z"
    },
    "papermill": {
     "duration": 18.112294,
     "end_time": "2022-11-20T02:11:19.811826",
     "exception": false,
     "start_time": "2022-11-20T02:11:01.699532",
     "status": "completed"
    },
    "tags": []
   },
   "outputs": [],
   "source": [
    "for example in range(num_examples_train):\n",
    "    Train_input_images[example,:28,:28,0] = xtrain.iloc[example, :].values.reshape(28,28)\n",
    "    Train_input_images[example,:28,:28,1] = xtrain.iloc[example, :].values.reshape(28,28)\n",
    "    Train_input_images[example,:28,:28,2] = xtrain.iloc[example, :].values.reshape(28,28)\n",
    "    \n",
    "for example in range(num_examples_test):\n",
    "    Test_input_images[example,:28,:28,0] = test.iloc[example, :].values.reshape(28,28)\n",
    "    Test_input_images[example,:28,:28,1] = test.iloc[example, :].values.reshape(28,28)\n",
    "    Test_input_images[example,:28,:28,2] = test.iloc[example, :].values.reshape(28,28)"
   ]
  },
  {
   "cell_type": "code",
   "execution_count": 10,
   "id": "d0adf869",
   "metadata": {
    "execution": {
     "iopub.execute_input": "2022-11-20T02:11:19.830859Z",
     "iopub.status.busy": "2022-11-20T02:11:19.830533Z",
     "iopub.status.idle": "2022-11-20T02:11:20.369393Z",
     "shell.execute_reply": "2022-11-20T02:11:20.368405Z"
    },
    "papermill": {
     "duration": 0.550841,
     "end_time": "2022-11-20T02:11:20.371780",
     "exception": false,
     "start_time": "2022-11-20T02:11:19.820939",
     "status": "completed"
    },
    "tags": []
   },
   "outputs": [],
   "source": [
    "import cv2\n",
    "for x in range(Train_input_images.shape[0]):\n",
    "    Train_input_images[x] = cv2.resize(Train_input_images[x], (32, 32))\n",
    "    \n",
    "for x in range(Test_input_images.shape[0]):\n",
    "    Test_input_images[x] = cv2.resize(Test_input_images[x], (32, 32))\n",
    "    "
   ]
  },
  {
   "cell_type": "markdown",
   "id": "c8b34580",
   "metadata": {
    "papermill": {
     "duration": 0.005814,
     "end_time": "2022-11-20T02:11:20.383531",
     "exception": false,
     "start_time": "2022-11-20T02:11:20.377717",
     "status": "completed"
    },
    "tags": []
   },
   "source": [
    "# Display Images with Shape"
   ]
  },
  {
   "cell_type": "code",
   "execution_count": 11,
   "id": "4f80ed81",
   "metadata": {
    "execution": {
     "iopub.execute_input": "2022-11-20T02:11:20.396075Z",
     "iopub.status.busy": "2022-11-20T02:11:20.395781Z",
     "iopub.status.idle": "2022-11-20T02:11:20.606144Z",
     "shell.execute_reply": "2022-11-20T02:11:20.605216Z"
    },
    "papermill": {
     "duration": 0.219366,
     "end_time": "2022-11-20T02:11:20.608480",
     "exception": false,
     "start_time": "2022-11-20T02:11:20.389114",
     "status": "completed"
    },
    "tags": []
   },
   "outputs": [
    {
     "data": {
      "text/plain": [
       "(<matplotlib.image.AxesImage at 0x7f95d504e3d0>, 1, (42000, 32, 32, 3))"
      ]
     },
     "execution_count": 11,
     "metadata": {},
     "output_type": "execute_result"
    },
    {
     "data": {
      "image/png": "[encoded data removed]",
      "text/plain": [
       "<Figure size 432x288 with 1 Axes>"
      ]
     },
     "metadata": {
      "needs_background": "light"
     },
     "output_type": "display_data"
    }
   ],
   "source": [
    "plt.imshow(Train_input_images[0]), ytrain[0], Train_input_images.shape"
   ]
  },
  {
   "cell_type": "code",
   "execution_count": 12,
   "id": "4cb5ac61",
   "metadata": {
    "execution": {
     "iopub.execute_input": "2022-11-20T02:11:20.622478Z",
     "iopub.status.busy": "2022-11-20T02:11:20.622080Z",
     "iopub.status.idle": "2022-11-20T02:11:21.009207Z",
     "shell.execute_reply": "2022-11-20T02:11:21.008282Z"
    },
    "papermill": {
     "duration": 0.396522,
     "end_time": "2022-11-20T02:11:21.011336",
     "exception": false,
     "start_time": "2022-11-20T02:11:20.614814",
     "status": "completed"
    },
    "tags": []
   },
   "outputs": [
    {
     "data": {
      "text/plain": [
       "(<matplotlib.image.AxesImage at 0x7f95d4a48e90>, 1, (28, 28))"
      ]
     },
     "execution_count": 12,
     "metadata": {},
     "output_type": "execute_result"
    },
    {
     "data": {
      "image/png": "[encoded data removed]",
      "text/plain": [
       "<Figure size 432x288 with 1 Axes>"
      ]
     },
     "metadata": {
      "needs_background": "light"
     },
     "output_type": "display_data"
    }
   ],
   "source": [
    "plt.imshow(np.array(xtrain)[0].reshape((28, 28))), ytrain[0], np.array(xtrain)[0].reshape((28, 28)).shape"
   ]
  },
  {
   "cell_type": "markdown",
   "id": "df2ce325",
   "metadata": {
    "papermill": {
     "duration": 0.006296,
     "end_time": "2022-11-20T02:11:21.024105",
     "exception": false,
     "start_time": "2022-11-20T02:11:21.017809",
     "status": "completed"
    },
    "tags": []
   },
   "source": [
    "# Train Test Split"
   ]
  },
  {
   "cell_type": "code",
   "execution_count": 13,
   "id": "2d951be9",
   "metadata": {
    "execution": {
     "iopub.execute_input": "2022-11-20T02:11:21.037606Z",
     "iopub.status.busy": "2022-11-20T02:11:21.037282Z",
     "iopub.status.idle": "2022-11-20T02:11:21.500175Z",
     "shell.execute_reply": "2022-11-20T02:11:21.499169Z"
    },
    "papermill": {
     "duration": 0.472577,
     "end_time": "2022-11-20T02:11:21.502761",
     "exception": false,
     "start_time": "2022-11-20T02:11:21.030184",
     "status": "completed"
    },
    "tags": []
   },
   "outputs": [],
   "source": [
    "from sklearn.model_selection import train_test_split #to split our dataset\n",
    "xtrain, xtest, ytrain, ytest = train_test_split(Train_input_images, ytrain, test_size=0.1, random_state=123)"
   ]
  },
  {
   "cell_type": "markdown",
   "id": "45bdb771",
   "metadata": {
    "papermill": {
     "duration": 0.006098,
     "end_time": "2022-11-20T02:11:21.515579",
     "exception": false,
     "start_time": "2022-11-20T02:11:21.509481",
     "status": "completed"
    },
    "tags": []
   },
   "source": [
    "# VGG16 Model Training"
   ]
  },
  {
   "cell_type": "code",
   "execution_count": 14,
   "id": "bcf554f2",
   "metadata": {
    "execution": {
     "iopub.execute_input": "2022-11-20T02:11:21.529327Z",
     "iopub.status.busy": "2022-11-20T02:11:21.529013Z",
     "iopub.status.idle": "2022-11-20T02:11:26.394417Z",
     "shell.execute_reply": "2022-11-20T02:11:26.393410Z"
    },
    "papermill": {
     "duration": 4.87513,
     "end_time": "2022-11-20T02:11:26.396849",
     "exception": false,
     "start_time": "2022-11-20T02:11:21.521719",
     "status": "completed"
    },
    "tags": []
   },
   "outputs": [],
   "source": [
    "from keras.models import Sequential\n",
    "from keras.optimizers import adam_v2\n",
    "from keras.utils.np_utils import to_categorical\n",
    "from keras.layers import Dense, Dropout, Flatten, BatchNormalization\n",
    "from keras.layers.convolutional import Conv2D, MaxPooling2D\n",
    "from keras.preprocessing import image"
   ]
  },
  {
   "cell_type": "code",
   "execution_count": 15,
   "id": "5af51824",
   "metadata": {
    "execution": {
     "iopub.execute_input": "2022-11-20T02:11:26.412889Z",
     "iopub.status.busy": "2022-11-20T02:11:26.411011Z",
     "iopub.status.idle": "2022-11-20T02:11:26.417461Z",
     "shell.execute_reply": "2022-11-20T02:11:26.416545Z"
    },
    "papermill": {
     "duration": 0.015856,
     "end_time": "2022-11-20T02:11:26.419498",
     "exception": false,
     "start_time": "2022-11-20T02:11:26.403642",
     "status": "completed"
    },
    "tags": []
   },
   "outputs": [],
   "source": [
    "def transferlearning(tl_model):\n",
    "    \n",
    "    # add new classifier layers\n",
    "    flat1 = Flatten()(tl_model.layers[-1].output)\n",
    "    class1 = Dense(1024, activation='relu')(flat1)\n",
    "    output = Dense(10, activation='softmax')(class1)\n",
    "    # define new model\n",
    "    model = Model(inputs=tl_model.inputs, outputs=output)\n",
    "    \n",
    "    return model"
   ]
  },
  {
   "cell_type": "code",
   "execution_count": 16,
   "id": "3ee87839",
   "metadata": {
    "execution": {
     "iopub.execute_input": "2022-11-20T02:11:26.433674Z",
     "iopub.status.busy": "2022-11-20T02:11:26.432794Z",
     "iopub.status.idle": "2022-11-20T02:11:29.673735Z",
     "shell.execute_reply": "2022-11-20T02:11:29.672762Z"
    },
    "papermill": {
     "duration": 3.250374,
     "end_time": "2022-11-20T02:11:29.676184",
     "exception": false,
     "start_time": "2022-11-20T02:11:26.425810",
     "status": "completed"
    },
    "tags": []
   },
   "outputs": [
    {
     "name": "stderr",
     "output_type": "stream",
     "text": [
      "2022-11-20 02:11:26.545235: I tensorflow/stream_executor/cuda/cuda_gpu_executor.cc:937] successful NUMA node read from SysFS had negative value (-1), but there must be at least one NUMA node, so returning NUMA node zero\n",
      "2022-11-20 02:11:26.633588: I tensorflow/stream_executor/cuda/cuda_gpu_executor.cc:937] successful NUMA node read from SysFS had negative value (-1), but there must be at least one NUMA node, so returning NUMA node zero\n",
      "2022-11-20 02:11:26.634377: I tensorflow/stream_executor/cuda/cuda_gpu_executor.cc:937] successful NUMA node read from SysFS had negative value (-1), but there must be at least one NUMA node, so returning NUMA node zero\n",
      "2022-11-20 02:11:26.635870: I tensorflow/core/platform/cpu_feature_guard.cc:142] This TensorFlow binary is optimized with oneAPI Deep Neural Network Library (oneDNN) to use the following CPU instructions in performance-critical operations:  AVX2 AVX512F FMA\n",
      "To enable them in other operations, rebuild TensorFlow with the appropriate compiler flags.\n",
      "2022-11-20 02:11:26.636212: I tensorflow/stream_executor/cuda/cuda_gpu_executor.cc:937] successful NUMA node read from SysFS had negative value (-1), but there must be at least one NUMA node, so returning NUMA node zero\n",
      "2022-11-20 02:11:26.636960: I tensorflow/stream_executor/cuda/cuda_gpu_executor.cc:937] successful NUMA node read from SysFS had negative value (-1), but there must be at least one NUMA node, so returning NUMA node zero\n",
      "2022-11-20 02:11:26.637641: I tensorflow/stream_executor/cuda/cuda_gpu_executor.cc:937] successful NUMA node read from SysFS had negative value (-1), but there must be at least one NUMA node, so returning NUMA node zero\n",
      "2022-11-20 02:11:28.623840: I tensorflow/stream_executor/cuda/cuda_gpu_executor.cc:937] successful NUMA node read from SysFS had negative value (-1), but there must be at least one NUMA node, so returning NUMA node zero\n",
      "2022-11-20 02:11:28.624751: I tensorflow/stream_executor/cuda/cuda_gpu_executor.cc:937] successful NUMA node read from SysFS had negative value (-1), but there must be at least one NUMA node, so returning NUMA node zero\n",
      "2022-11-20 02:11:28.625471: I tensorflow/stream_executor/cuda/cuda_gpu_executor.cc:937] successful NUMA node read from SysFS had negative value (-1), but there must be at least one NUMA node, so returning NUMA node zero\n",
      "2022-11-20 02:11:28.626071: I tensorflow/core/common_runtime/gpu/gpu_device.cc:1510] Created device /job:localhost/replica:0/task:0/device:GPU:0 with 15401 MB memory:  -> device: 0, name: Tesla P100-PCIE-16GB, pci bus id: 0000:00:04.0, compute capability: 6.0\n"
     ]
    },
    {
     "name": "stdout",
     "output_type": "stream",
     "text": [
      "Downloading data from https://storage.googleapis.com/tensorflow/keras-applications/vgg16/vgg16_weights_tf_dim_ordering_tf_kernels_notop.h5\n",
      "58892288/58889256 [==============================] - 0s 0us/step\n",
      "58900480/58889256 [==============================] - 0s 0us/step\n"
     ]
    }
   ],
   "source": [
    "from keras.applications.vgg16 import VGG16\n",
    "from keras.models import Model\n",
    "vgg = VGG16(input_shape=(32, 32, 3), weights='imagenet', include_top=False)\n",
    "\n",
    "for layer in vgg.layers:\n",
    "    layer.trainable = False\n",
    "    \n",
    "vgg_model = transferlearning(vgg)"
   ]
  },
  {
   "cell_type": "code",
   "execution_count": 17,
   "id": "432632e9",
   "metadata": {
    "execution": {
     "iopub.execute_input": "2022-11-20T02:11:29.691813Z",
     "iopub.status.busy": "2022-11-20T02:11:29.690975Z",
     "iopub.status.idle": "2022-11-20T02:11:29.702663Z",
     "shell.execute_reply": "2022-11-20T02:11:29.701812Z"
    },
    "papermill": {
     "duration": 0.021268,
     "end_time": "2022-11-20T02:11:29.704529",
     "exception": false,
     "start_time": "2022-11-20T02:11:29.683261",
     "status": "completed"
    },
    "tags": []
   },
   "outputs": [],
   "source": [
    "Optimizer = 'Adam'\n",
    "vgg_model.compile(optimizer=Optimizer, \n",
    "                loss='sparse_categorical_crossentropy',\n",
    "                metrics=['accuracy'])"
   ]
  },
  {
   "cell_type": "code",
   "execution_count": 18,
   "id": "a4157417",
   "metadata": {
    "execution": {
     "iopub.execute_input": "2022-11-20T02:11:29.719557Z",
     "iopub.status.busy": "2022-11-20T02:11:29.719085Z",
     "iopub.status.idle": "2022-11-20T02:13:53.493826Z",
     "shell.execute_reply": "2022-11-20T02:13:53.491483Z"
    },
    "papermill": {
     "duration": 143.785489,
     "end_time": "2022-11-20T02:13:53.496694",
     "exception": false,
     "start_time": "2022-11-20T02:11:29.711205",
     "status": "completed"
    },
    "tags": []
   },
   "outputs": [
    {
     "name": "stderr",
     "output_type": "stream",
     "text": [
      "2022-11-20 02:11:30.895711: I tensorflow/compiler/mlir/mlir_graph_optimization_pass.cc:185] None of the MLIR Optimization Passes are enabled (registered 2)\n"
     ]
    },
    {
     "name": "stdout",
     "output_type": "stream",
     "text": [
      "Epoch 1/10\n"
     ]
    },
    {
     "name": "stderr",
     "output_type": "stream",
     "text": [
      "2022-11-20 02:11:32.376184: I tensorflow/stream_executor/cuda/cuda_dnn.cc:369] Loaded cuDNN version 8005\n"
     ]
    },
    {
     "name": "stdout",
     "output_type": "stream",
     "text": [
      "1890/1890 [==============================] - 20s 7ms/step - loss: 0.3195 - accuracy: 0.8968 - val_loss: 0.1925 - val_accuracy: 0.9407\n",
      "Epoch 2/10\n",
      "1890/1890 [==============================] - 13s 7ms/step - loss: 0.1721 - accuracy: 0.9423 - val_loss: 0.2095 - val_accuracy: 0.9276\n",
      "Epoch 3/10\n",
      "1890/1890 [==============================] - 13s 7ms/step - loss: 0.1428 - accuracy: 0.9517 - val_loss: 0.1486 - val_accuracy: 0.9552\n",
      "Epoch 4/10\n",
      "1890/1890 [==============================] - 13s 7ms/step - loss: 0.1282 - accuracy: 0.9570 - val_loss: 0.1191 - val_accuracy: 0.9626\n",
      "Epoch 5/10\n",
      "1890/1890 [==============================] - 13s 7ms/step - loss: 0.1146 - accuracy: 0.9603 - val_loss: 0.1319 - val_accuracy: 0.9536\n",
      "Epoch 6/10\n",
      "1890/1890 [==============================] - 13s 7ms/step - loss: 0.1032 - accuracy: 0.9650 - val_loss: 0.1149 - val_accuracy: 0.9626\n",
      "Epoch 7/10\n",
      "1890/1890 [==============================] - 13s 7ms/step - loss: 0.0980 - accuracy: 0.9672 - val_loss: 0.1044 - val_accuracy: 0.9633\n",
      "Epoch 8/10\n",
      "1890/1890 [==============================] - 13s 7ms/step - loss: 0.0919 - accuracy: 0.9698 - val_loss: 0.1046 - val_accuracy: 0.9671\n",
      "Epoch 9/10\n",
      "1890/1890 [==============================] - 13s 7ms/step - loss: 0.0859 - accuracy: 0.9708 - val_loss: 0.1026 - val_accuracy: 0.9671\n",
      "Epoch 10/10\n",
      "1890/1890 [==============================] - 13s 7ms/step - loss: 0.0810 - accuracy: 0.9725 - val_loss: 0.1038 - val_accuracy: 0.9667\n"
     ]
    },
    {
     "data": {
      "text/plain": [
       "<keras.callbacks.History at 0x7f94b0ea3150>"
      ]
     },
     "execution_count": 18,
     "metadata": {},
     "output_type": "execute_result"
    }
   ],
   "source": [
    "vgg_model.fit(xtrain, ytrain, epochs = 10, batch_size=20, validation_data = (xtest, ytest))"
   ]
  },
  {
   "cell_type": "markdown",
   "id": "c9698dab",
   "metadata": {
    "papermill": {
     "duration": 0.173895,
     "end_time": "2022-11-20T02:13:53.883650",
     "exception": false,
     "start_time": "2022-11-20T02:13:53.709755",
     "status": "completed"
    },
    "tags": []
   },
   "source": [
    "# Prediction on Test Dataset"
   ]
  },
  {
   "cell_type": "code",
   "execution_count": 19,
   "id": "bd5373d3",
   "metadata": {
    "execution": {
     "iopub.execute_input": "2022-11-20T02:13:54.181540Z",
     "iopub.status.busy": "2022-11-20T02:13:54.181170Z",
     "iopub.status.idle": "2022-11-20T02:14:00.245552Z",
     "shell.execute_reply": "2022-11-20T02:14:00.244584Z"
    },
    "papermill": {
     "duration": 6.185156,
     "end_time": "2022-11-20T02:14:00.247959",
     "exception": false,
     "start_time": "2022-11-20T02:13:54.062803",
     "status": "completed"
    },
    "tags": []
   },
   "outputs": [],
   "source": [
    "result = vgg_model.predict(Test_input_images)\n",
    "result = np.argmax(result, axis=1)\n",
    "submission = pd.read_csv('../input/digit-recognizer/sample_submission.csv')\n",
    "submission['Label'] = result\n",
    "submission.to_csv('submission.csv', index=False)"
   ]
  }
 ],
 "metadata": {
  "kernelspec": {
   "display_name": "Python 3",
   "language": "python",
   "name": "python3"
  },
  "language_info": {
   "codemirror_mode": {
    "name": "ipython",
    "version": 3
   },
   "file_extension": ".py",
   "mimetype": "text/x-python",
   "name": "python",
   "nbconvert_exporter": "python",
   "pygments_lexer": "ipython3",
   "version": "3.7.12"
  },
  "papermill": {
   "default_parameters": {},
   "duration": 196.313417,
   "end_time": "2022-11-20T02:14:04.037283",
   "environment_variables": {},
   "exception": null,
   "input_path": "__notebook__.ipynb",
   "output_path": "__notebook__.ipynb",
   "parameters": {},
   "start_time": "2022-11-20T02:10:47.723866",
   "version": "2.3.4"
  }
 },
 "nbformat": 4,
 "nbformat_minor": 5
}
